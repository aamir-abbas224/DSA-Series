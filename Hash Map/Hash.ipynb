{
 "cells": [
  {
   "cell_type": "code",
   "execution_count": 7,
   "id": "9e7cc11c",
   "metadata": {},
   "outputs": [],
   "source": [
    "class Hashmap:\n",
    "    \n",
    "    def __init__(self,capacity):\n",
    "        self.capacity = capacity\n",
    "        self._size = 0\n",
    "        self.buckets = [[] for _ in range(capacity)]\n",
    "        \n",
    "    #O(1) - Constant time    \n",
    "    def __length__(self):\n",
    "        return self._size\n",
    "    \n",
    "    # Average of 0(1)- Constant Time\n",
    "    # Worst is O(n) = linear time\n",
    "    def __contains__(self,key):\n",
    "        index =  self._hash_function(key)\n",
    "        bucket = self.buckets[index]\n",
    "        \n",
    "        for k , v in bucket:\n",
    "            if k == key:\n",
    "                return True\n",
    "        return False    \n",
    "    \n",
    "    # Average of 0(1)- Constant Time\n",
    "    # Worst is O(n) = linear time        \n",
    "    def get(self,key,value):\n",
    "        index =  self._hash_function(key)\n",
    "        bucket = self.buckets[index]\n",
    "        \n",
    "        for k , v in bucket:\n",
    "            if k == key:\n",
    "                return v\n",
    "        raise KeyError(\"Key not found\")      \n",
    "    \n",
    "    # Average of 0(1)- Constant Time\n",
    "    # Worst is O(n) = linear time    \n",
    "    def put(self,key,value):\n",
    "        index =  self._hash_function(key) #finds the bucket index.\n",
    "        bucket = self.buckets[index] #get the list at that bucket.\n",
    "        \n",
    "        for i, (k,v) in enumerate(bucket):\n",
    "            if k == key:\n",
    "                bucket[i] = (key,value)\n",
    "                return     \n",
    "        bucket.append((key,value))\n",
    "        self._size += 1\n",
    "               \n",
    "            \n",
    "    # Average of 0(1)- Constant Time\n",
    "    # Worst is O(n) = linear time  \n",
    "    def remove(self,key):\n",
    "        index =  self._hash_function(key)\n",
    "        bucket = self.buckets[index]\n",
    "        \n",
    "        for i,(k , v) in enumerate(bucket):\n",
    "            if k == key:\n",
    "                del bucket[i]\n",
    "                self._size -= 1\n",
    "                break\n",
    "        else:    \n",
    "            raise KeyError(\"Key not found\")     \n",
    "         \n",
    "    #O(n) - linear time\n",
    "    def keys(self):\n",
    "        return [k for bucket in self.buckets for k,_ in bucket]   \n",
    "     \n",
    "    #O(n) - linear time\n",
    "    def values(self):\n",
    "        return [v for bucket in self.buckets for _,v in bucket]    \n",
    "    \n",
    "    #O(n) - linear time\n",
    "    def items(self):\n",
    "       return [(k,v) for bucket in self.buckets for k,v in bucket]    \n",
    "    \n",
    "    # Core Function\n",
    "    #O(k) -  linear in key length since keys influence this function\n",
    "    def _hash_function(self,key):\n",
    "        key_string = str(key) # converts key into string so it can be iterated\n",
    "        hash_result = 0\n",
    "        \n",
    "        for char in key_string:\n",
    "            hash_result =  (hash_result * 31 + ord(char)) % self.capacity  # Polynomial hash formula which is commonly used: hash = hash*31 + ord(char)\n",
    "        return hash_result            # self.capacity ensures the result stays in range of [0,self.capacity-1] making it as an index in your hash table\n",
    "                                      # Multiplying by 31 spreads out values better, reducing collisions."
   ]
  },
  {
   "cell_type": "code",
   "execution_count": 10,
   "id": "0739e669",
   "metadata": {},
   "outputs": [
    {
     "name": "stdout",
     "output_type": "stream",
     "text": [
      "[('name', 'Mike'), ('job', 'Plumber'), ('age', 39)]\n",
      "[[], [], [], [], [], [], [], [], [], [], [], [('name', 'Mike')], [], [], [], [], [], [], [], [], [], [], [], [], [], [], [], [], [], [('job', 'Plumber')], [], [('age', 39)]]\n"
     ]
    }
   ],
   "source": [
    "hashmap = Hashmap(32)\n",
    "\n",
    "hashmap.put('name','Mike')\n",
    "hashmap.put('job','Plumber')\n",
    "hashmap.put('age',39)\n",
    "\n",
    "print(hashmap.items())\n",
    "print(hashmap.buckets)"
   ]
  },
  {
   "cell_type": "code",
   "execution_count": null,
   "id": "d7a5d4ca",
   "metadata": {},
   "outputs": [],
   "source": [
    "import uuid\n",
    "import matplotlib.pyplot as plt\n",
    "\n",
    "hash_map = Hashmap(100)\n",
    "\n",
    "for _ in range(10000000):\n",
    "    hash_map.put(uuid.uuid4(),'some_value')\n",
    "\n",
    "X = []\n",
    "Y = []\n",
    "\n",
    "for i , bucket  in enumerate(hash_map.bu0ckets):\n",
    "    X.append(i)\n",
    "    Y.append(len(bucket))\n",
    "\n",
    "plt.bar(X,Y)\n",
    "plt.show()        "
   ]
  },
  {
   "cell_type": "code",
   "execution_count": null,
   "id": "73b0d7ed",
   "metadata": {},
   "outputs": [],
   "source": []
  },
  {
   "cell_type": "code",
   "execution_count": null,
   "id": "d330db87",
   "metadata": {},
   "outputs": [],
   "source": []
  },
  {
   "cell_type": "code",
   "execution_count": null,
   "id": "1e3f08e4",
   "metadata": {},
   "outputs": [],
   "source": []
  },
  {
   "cell_type": "code",
   "execution_count": null,
   "id": "91232d51",
   "metadata": {},
   "outputs": [],
   "source": []
  },
  {
   "cell_type": "code",
   "execution_count": null,
   "id": "8eba49df",
   "metadata": {},
   "outputs": [],
   "source": []
  },
  {
   "cell_type": "code",
   "execution_count": null,
   "id": "2c93c634",
   "metadata": {},
   "outputs": [],
   "source": []
  },
  {
   "cell_type": "code",
   "execution_count": null,
   "id": "0a350b35",
   "metadata": {},
   "outputs": [],
   "source": []
  }
 ],
 "metadata": {
  "kernelspec": {
   "display_name": "Python 3",
   "language": "python",
   "name": "python3"
  },
  "language_info": {
   "codemirror_mode": {
    "name": "ipython",
    "version": 3
   },
   "file_extension": ".py",
   "mimetype": "text/x-python",
   "name": "python",
   "nbconvert_exporter": "python",
   "pygments_lexer": "ipython3",
   "version": "3.11.9"
  }
 },
 "nbformat": 4,
 "nbformat_minor": 5
}
