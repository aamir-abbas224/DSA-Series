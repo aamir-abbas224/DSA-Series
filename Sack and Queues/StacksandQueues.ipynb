{
 "cells": [
  {
   "cell_type": "code",
   "execution_count": 1,
   "id": "e72fc347",
   "metadata": {},
   "outputs": [],
   "source": [
    "class Node:\n",
    "    def __init__(self,data=None):\n",
    "        self.data = data\n",
    "        self.next = None\n",
    "        \n",
    "class Stack: # LIFO (Last in - First Out)\n",
    "    \n",
    "    def __init__(self):\n",
    "        self.top = None\n",
    "        self._size = 0\n",
    "        \n",
    "    #O(1) -Time Complexity\n",
    "    def get_len(self):\n",
    "        return self._size\n",
    "    \n",
    "    #O(1) -Time Complexity\n",
    "    def push(self,data):\n",
    "        new_node = Node(data)    #creating a new node \n",
    "        new_node.next = self.top # points to the top element even if it is None \n",
    "        self.top = new_node      \n",
    "        self._size += 1          # incrementing the size by +1  \n",
    "    \n",
    "    #O(1) -Time Complexity\n",
    "    def pop(self):\n",
    "        if self.top is None:\n",
    "            raise ValueError('Stack is Empty')\n",
    "    \n",
    "        pop_value = self.top.data # pops the data value at the top\n",
    "        self.top = self.top.next  #Remove the top node and remove the top node from the stack—nothing points to it anymore, so it can be garbage collected.\n",
    "        self._size -= 1                # decrement the value\n",
    "        return pop_value\n",
    "    \n",
    "    #O(1) -Time Complexity\n",
    "    def peek(self):\n",
    "        if self.top is None:\n",
    "            raise ValueError('Stack is Empty')\n",
    "        return self.top.data   \n",
    "    \n",
    "    #O(1) -Time Complexity\n",
    "    def is_empty(self):\n",
    "        return self.top is None\n",
    "    \n",
    "    #O(n) -Time Complexity\n",
    "    def __repr__(self):\n",
    "        values = []\n",
    "        current = self.top\n",
    "        \n",
    "        while current is not None:\n",
    "            values.append(current.data)\n",
    "            current = current.next\n",
    "            \n",
    "        return ' , '.join(map(str,values)) #Convert all items to strings to avoid potential errors \n",
    "    \n",
    "    #O(1) -Time Complexity\n",
    "    def clear(self):\n",
    "        self.top = None\n",
    "        self._size = 0 "
   ]
  },
  {
   "cell_type": "code",
   "execution_count": null,
   "id": "e761ced6",
   "metadata": {},
   "outputs": [],
   "source": [
    "class Node:\n",
    "    def __init__(self,data=None):\n",
    "        self.data = data\n",
    "        self.next = None\n",
    "\n",
    "class Queue:    #FIFO (First In - First Out)\n",
    "    def __init__(self):\n",
    "        self.front=  None\n",
    "        self.rear = None\n",
    "        self._size = 0\n",
    "        \n",
    "    #O(1) -Time Complexity    \n",
    "    def get_size(self):\n",
    "        return self._size\n",
    "    \n",
    "    #O(1) -Time Complexity\n",
    "    def enqueue(self,data):\n",
    "        new_node = Node(data)\n",
    "        \n",
    "        if self.rear is None:\n",
    "            self.front =  self.rear = new_node\n",
    "        else:\n",
    "            self.rear.next = new_node\n",
    "            self.rear = new_node\n",
    "        self._size +=1    \n",
    "            \n",
    "    #O(1) -Time Complexity\n",
    "    def dequeue(self):\n",
    "        if self.front is None:\n",
    "            raise IndexError('Queue is Empty')\n",
    "        \n",
    "        dequeue_value = self.front.data\n",
    "        self.front = self.front.next\n",
    "        \n",
    "        if self.front is None:\n",
    "            self.rear = None\n",
    "        self._size -= 1\n",
    "        return dequeue_value\n",
    "            \n",
    "    #O(n) -Time Complexity\n",
    "    def __repr__(self):\n",
    "        values =[]\n",
    "        current = self.front\n",
    "        \n",
    "        while current is not None:\n",
    "            values.append(str(current.data))\n",
    "            current = current.next\n",
    "        return ' , '.join(values)\n",
    "    \n",
    "    #O(1) -Time Complexity    \n",
    "    def peek(self):\n",
    "        if self.front is None:\n",
    "            raise IndexError('Queue is Empty')\n",
    "        return self.front.data\n",
    "    \n",
    "    #O(1) -Time Complexity      \n",
    "    def is_empty(self):\n",
    "        return self.front is None\n",
    "    \n",
    "    def clear(self):\n",
    "        self.front=  None\n",
    "        self.rear = None\n",
    "        self._size = 0"
   ]
  },
  {
   "cell_type": "code",
   "execution_count": null,
   "id": "9cbed457",
   "metadata": {},
   "outputs": [],
   "source": []
  },
  {
   "cell_type": "code",
   "execution_count": null,
   "id": "f295d2e9",
   "metadata": {},
   "outputs": [],
   "source": []
  },
  {
   "cell_type": "code",
   "execution_count": null,
   "id": "5e46091f",
   "metadata": {},
   "outputs": [],
   "source": []
  },
  {
   "cell_type": "code",
   "execution_count": null,
   "id": "a560c567",
   "metadata": {},
   "outputs": [],
   "source": []
  },
  {
   "cell_type": "code",
   "execution_count": null,
   "id": "78c17778",
   "metadata": {},
   "outputs": [],
   "source": []
  },
  {
   "cell_type": "code",
   "execution_count": null,
   "id": "7cf8f40e",
   "metadata": {},
   "outputs": [],
   "source": []
  },
  {
   "cell_type": "code",
   "execution_count": null,
   "id": "b501139c",
   "metadata": {},
   "outputs": [],
   "source": []
  },
  {
   "cell_type": "code",
   "execution_count": null,
   "id": "022f36f4",
   "metadata": {},
   "outputs": [],
   "source": []
  },
  {
   "cell_type": "code",
   "execution_count": null,
   "id": "bfd22eff",
   "metadata": {},
   "outputs": [],
   "source": []
  },
  {
   "cell_type": "code",
   "execution_count": null,
   "id": "5612a43b",
   "metadata": {},
   "outputs": [],
   "source": []
  },
  {
   "cell_type": "code",
   "execution_count": null,
   "id": "d1e0843a",
   "metadata": {},
   "outputs": [],
   "source": []
  },
  {
   "cell_type": "code",
   "execution_count": null,
   "id": "9001660b",
   "metadata": {},
   "outputs": [],
   "source": []
  },
  {
   "cell_type": "code",
   "execution_count": null,
   "id": "dff97fad",
   "metadata": {},
   "outputs": [],
   "source": []
  },
  {
   "cell_type": "code",
   "execution_count": null,
   "id": "89de9727",
   "metadata": {},
   "outputs": [],
   "source": []
  },
  {
   "cell_type": "code",
   "execution_count": null,
   "id": "4ef59df0",
   "metadata": {},
   "outputs": [],
   "source": []
  },
  {
   "cell_type": "code",
   "execution_count": null,
   "id": "f704d8b5",
   "metadata": {},
   "outputs": [],
   "source": []
  },
  {
   "cell_type": "code",
   "execution_count": null,
   "id": "472d4ea1",
   "metadata": {},
   "outputs": [],
   "source": []
  },
  {
   "cell_type": "code",
   "execution_count": null,
   "id": "b4c2fa7f",
   "metadata": {},
   "outputs": [],
   "source": []
  },
  {
   "cell_type": "code",
   "execution_count": null,
   "id": "142edd7c",
   "metadata": {},
   "outputs": [],
   "source": []
  },
  {
   "cell_type": "code",
   "execution_count": null,
   "id": "0708846a",
   "metadata": {},
   "outputs": [],
   "source": []
  },
  {
   "cell_type": "code",
   "execution_count": null,
   "id": "25dc17aa",
   "metadata": {},
   "outputs": [],
   "source": []
  },
  {
   "cell_type": "code",
   "execution_count": null,
   "id": "6c5ca690",
   "metadata": {},
   "outputs": [],
   "source": []
  },
  {
   "cell_type": "code",
   "execution_count": null,
   "id": "ff99cee6",
   "metadata": {},
   "outputs": [],
   "source": []
  },
  {
   "cell_type": "code",
   "execution_count": null,
   "id": "c8573cc8",
   "metadata": {},
   "outputs": [],
   "source": []
  },
  {
   "cell_type": "code",
   "execution_count": null,
   "id": "2696b900",
   "metadata": {},
   "outputs": [],
   "source": []
  },
  {
   "cell_type": "code",
   "execution_count": null,
   "id": "3d8448fd",
   "metadata": {},
   "outputs": [],
   "source": []
  },
  {
   "cell_type": "code",
   "execution_count": null,
   "id": "a60c5e53",
   "metadata": {},
   "outputs": [],
   "source": []
  },
  {
   "cell_type": "code",
   "execution_count": null,
   "id": "dfeadaa5",
   "metadata": {},
   "outputs": [],
   "source": []
  },
  {
   "cell_type": "code",
   "execution_count": null,
   "id": "1d910d78",
   "metadata": {},
   "outputs": [],
   "source": []
  },
  {
   "cell_type": "code",
   "execution_count": null,
   "id": "3b738a7d",
   "metadata": {},
   "outputs": [],
   "source": []
  },
  {
   "cell_type": "code",
   "execution_count": null,
   "id": "88a2366d",
   "metadata": {},
   "outputs": [],
   "source": []
  },
  {
   "cell_type": "code",
   "execution_count": null,
   "id": "20cd4ce8",
   "metadata": {},
   "outputs": [],
   "source": []
  },
  {
   "cell_type": "code",
   "execution_count": null,
   "id": "ad82fa4b",
   "metadata": {},
   "outputs": [],
   "source": []
  },
  {
   "cell_type": "code",
   "execution_count": null,
   "id": "c2cd75cc",
   "metadata": {},
   "outputs": [],
   "source": []
  },
  {
   "cell_type": "code",
   "execution_count": null,
   "id": "36dc6435",
   "metadata": {},
   "outputs": [],
   "source": []
  },
  {
   "cell_type": "code",
   "execution_count": null,
   "id": "9d09101f",
   "metadata": {},
   "outputs": [],
   "source": []
  },
  {
   "cell_type": "code",
   "execution_count": null,
   "id": "07b17772",
   "metadata": {},
   "outputs": [],
   "source": []
  },
  {
   "cell_type": "code",
   "execution_count": null,
   "id": "5dce1689",
   "metadata": {},
   "outputs": [],
   "source": []
  },
  {
   "cell_type": "code",
   "execution_count": null,
   "id": "eb24a519",
   "metadata": {},
   "outputs": [],
   "source": []
  },
  {
   "cell_type": "code",
   "execution_count": null,
   "id": "d46e1429",
   "metadata": {},
   "outputs": [],
   "source": []
  },
  {
   "cell_type": "code",
   "execution_count": null,
   "id": "ed23c7fe",
   "metadata": {},
   "outputs": [],
   "source": []
  },
  {
   "cell_type": "code",
   "execution_count": null,
   "id": "fa54a0ce",
   "metadata": {},
   "outputs": [],
   "source": []
  },
  {
   "cell_type": "code",
   "execution_count": null,
   "id": "cc6dd5fb",
   "metadata": {},
   "outputs": [],
   "source": []
  },
  {
   "cell_type": "code",
   "execution_count": null,
   "id": "da6fa804",
   "metadata": {},
   "outputs": [],
   "source": []
  },
  {
   "cell_type": "code",
   "execution_count": null,
   "id": "81d10ed0",
   "metadata": {},
   "outputs": [],
   "source": []
  },
  {
   "cell_type": "code",
   "execution_count": null,
   "id": "c7c7ac1b",
   "metadata": {},
   "outputs": [],
   "source": []
  }
 ],
 "metadata": {
  "kernelspec": {
   "display_name": "Python 3",
   "language": "python",
   "name": "python3"
  },
  "language_info": {
   "codemirror_mode": {
    "name": "ipython",
    "version": 3
   },
   "file_extension": ".py",
   "mimetype": "text/x-python",
   "name": "python",
   "nbconvert_exporter": "python",
   "pygments_lexer": "ipython3",
   "version": "3.11.9"
  }
 },
 "nbformat": 4,
 "nbformat_minor": 5
}
