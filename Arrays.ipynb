{
 "cells": [
  {
   "cell_type": "code",
   "execution_count": 9,
   "id": "06575dd9",
   "metadata": {},
   "outputs": [
    {
     "data": {
      "text/plain": [
       "[3, 7, 8, 12, 15, 19, 22, 34, 42, 55, 63, 68, 77, 89, 91]"
      ]
     },
     "execution_count": 9,
     "metadata": {},
     "output_type": "execute_result"
    }
   ],
   "source": [
    "arr = [42, 7, 89, 15, 63, 22, 91, 34, 8, 55, 19, 77, 3, 68, 12]\n",
    "\n",
    "sorted(arr)\n",
    "\n"
   ]
  },
  {
   "cell_type": "code",
   "execution_count": 10,
   "id": "c8ef8d86",
   "metadata": {},
   "outputs": [],
   "source": [
    "#Merge Sort :\n",
    "\n",
    "\"\"\"Merge Sort Algorithm (Divide and Conquer)\n",
    "\n",
    "Input: An array arr of length n\n",
    "Output: Sorted array\n",
    "\n",
    "If the array has 0 or 1 element, return it (already sorted).\n",
    "\n",
    "Divide the array into two halves: left and right.\n",
    "\n",
    "Recursively sort the left half.\n",
    "\n",
    "Recursively sort the right half.\n",
    "\n",
    "Merge the two sorted halves into a single sorted array:\n",
    "\n",
    "Initialize empty result array.\n",
    "\n",
    "While both left and right are non-empty:\n",
    "\n",
    "Compare the first elements of left and right.\n",
    "\n",
    "Remove the smaller element and append it to result.\n",
    "\n",
    "Append any remaining elements from left or right to result.\n",
    "\n",
    "Return the merged result.\n",
    "\n",
    "\n",
    "Time Complexity: O(n log n)\n",
    "Space Complexity: O(n)\n",
    "\n",
    "\"\"\"\n",
    "\n",
    "def mergesort(arr):\n",
    "    \n",
    "    if len(arr) > 1:\n",
    "        mid  = len(arr) // 2 # splitting input array\n",
    "        left = arr[:mid]\n",
    "        right = arr[mid:]\n",
    "        \n",
    "        #recursive calls to mergeSort for left and right sub arrays\n",
    "        mergesort(left)\n",
    "        mergesort(right)\n",
    "        \n",
    "        #initializes pointers for left (i) right (j) and output array (k)\n",
    "        \n",
    "        i = j = k = 0 # 3 initialization operations\n",
    "        \n",
    "        #Traverse and merges the sorted arrays\n",
    "        while i < len(left) and j < len(right):\n",
    "            #if left < right comparison operation\n",
    "            if left[i] < right[j]:\n",
    "                #if left < right assignment operation\n",
    "                arr[k] = left[i]\n",
    "                i += 1\n",
    "            else:\n",
    "                #if right <=  left assignment \n",
    "                arr[k] = right[j]\n",
    "                j +=1\n",
    "            k +=1\n",
    "            \n",
    "            \n",
    "        while i < len(left):\n",
    "            #assignment operation\n",
    "            arr[k] = left[i]\n",
    "            i += 1\n",
    "            k += 1\n",
    "        \n",
    "        while j < len(right):\n",
    "            #assignment operation\n",
    "            arr[k] = right[j]\n",
    "            j += 1\n",
    "            k += 1\n",
    "            \n",
    "    return arr         \n",
    "                    \n"
   ]
  },
  {
   "cell_type": "code",
   "execution_count": 11,
   "id": "a21b6f9e",
   "metadata": {},
   "outputs": [
    {
     "name": "stdout",
     "output_type": "stream",
     "text": [
      "egg\n",
      "ham\n",
      "spam\n"
     ]
    }
   ],
   "source": [
    "#simple node implementation\n",
    "class Node:\n",
    "    def __init__(self,data=None):\n",
    "        self.data = data\n",
    "        self.next = None\n",
    "        \n",
    "n1 =  Node('egg')\n",
    "n2 =  Node('ham')        \n",
    "n3 =  Node('spam')\n",
    "\n",
    "n1.next = n2\n",
    "n2.next = n3\n",
    "\n",
    "\n",
    "current = n1\n",
    "\n",
    "while current:\n",
    "    print(current.data)\n",
    "    current = current.next        \n",
    "        \n",
    "\n",
    "\n",
    "#implement the __str__ method so that it calls the\n",
    "#__str__ method of the contained object is called when the node object is passed to print        \n",
    "def __str__(self):\n",
    "    return str(data) # type: ignore        "
   ]
  },
  {
   "cell_type": "code",
   "execution_count": null,
   "id": "1a30016e",
   "metadata": {},
   "outputs": [
    {
     "name": "stdout",
     "output_type": "stream",
     "text": [
      "egg\n",
      "ham\n",
      "spam\n"
     ]
    }
   ],
   "source": [
    "#Singly Linked List Class Implementation\n",
    "\n",
    "# head → [data|next] → [data|next] → [data|None] ← tail\n",
    "\n",
    "class SinglyLinkedList:\n",
    "    def __init__(self):\n",
    "        self.head = None # first node\n",
    "        self.tail = None # last node\n",
    "        \n",
    "        #Append(insert) operation with O(n) time complexity\n",
    "    def append(self,data):\n",
    "        node = Node(data) # Encapsulating the data in a Node\n",
    "        if self.tail is None:\n",
    "            self.tail = node\n",
    "            self.head = node \n",
    "        else:\n",
    "            current = self.head\n",
    "            while current.next:  # the loop terminates when current.next hits None\n",
    "                current = current.next\n",
    "            current.next  = node\n",
    "            self.tail = node\n",
    "            \n",
    "    #Append(insert) operation with O(1) time complexity\n",
    "    def append_fast(self,data):\n",
    "        node = Node(data) # Encapsulating the data in a Node\n",
    "        if self.head is None:\n",
    "            self.head = node\n",
    "            self.tail= node\n",
    "        else:\n",
    "            self.tail.next = node\n",
    "            self.tail = node    \n",
    "    #Note: self.tail points to the last node of the list and new nodes shall be appended through last node        \n",
    "            \n",
    "              \n",
    "words = SinglyLinkedList()\n",
    "words.append('egg')\n",
    "words.append('ham')\n",
    "words.append('spam')\n",
    "\n",
    "current = words.head\n",
    "\n",
    "while current:\n",
    "    print(current.data)\n",
    "    current = current.next                       "
   ]
  },
  {
   "cell_type": "code",
   "execution_count": null,
   "id": "7e3a8079",
   "metadata": {},
   "outputs": [],
   "source": []
  },
  {
   "cell_type": "code",
   "execution_count": null,
   "id": "b87aeeb9",
   "metadata": {},
   "outputs": [],
   "source": []
  },
  {
   "cell_type": "code",
   "execution_count": null,
   "id": "c778d080",
   "metadata": {},
   "outputs": [],
   "source": []
  },
  {
   "cell_type": "code",
   "execution_count": null,
   "id": "9c16b4d3",
   "metadata": {},
   "outputs": [],
   "source": []
  },
  {
   "cell_type": "code",
   "execution_count": null,
   "id": "e32d221e",
   "metadata": {},
   "outputs": [],
   "source": []
  },
  {
   "cell_type": "code",
   "execution_count": null,
   "id": "4d61a573",
   "metadata": {},
   "outputs": [],
   "source": []
  }
 ],
 "metadata": {
  "kernelspec": {
   "display_name": "Python 3",
   "language": "python",
   "name": "python3"
  },
  "language_info": {
   "codemirror_mode": {
    "name": "ipython",
    "version": 3
   },
   "file_extension": ".py",
   "mimetype": "text/x-python",
   "name": "python",
   "nbconvert_exporter": "python",
   "pygments_lexer": "ipython3",
   "version": "3.11.9"
  }
 },
 "nbformat": 4,
 "nbformat_minor": 5
}
